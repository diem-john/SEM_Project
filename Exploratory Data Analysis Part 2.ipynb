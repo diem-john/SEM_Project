{
 "cells": [
  {
   "cell_type": "code",
   "execution_count": null,
   "id": "836b86cb",
   "metadata": {},
   "outputs": [],
   "source": [
    "import pandas as pd\n",
    "import numpy as np\n",
    "\n",
    "import matplotlib.pyplot as plt\n",
    "import seaborn as sns\n",
    "\n",
    "import warnings\n",
    "\n",
    "from tqdm.notebook import tqdm\n",
    "\n",
    "import scipy.stats as ss\n",
    "from sklearn.decomposition import PCA\n",
    "from sklearn.preprocessing import MinMaxScaler\n",
    "from sklearn.model_selection import train_test_split\n",
    "\n",
    "import torch\n",
    "import torch.nn as nn\n",
    "from torch.utils.data import DataLoader, TensorDataset\n",
    "\n",
    "\n",
    "from itertools import product\n",
    "\n",
    "warnings.filterwarnings('ignore')\n",
    "sns.set()"
   ]
  },
  {
   "cell_type": "code",
   "execution_count": null,
   "id": "2f4a9ec5",
   "metadata": {},
   "outputs": [],
   "source": [
    "df = pd.read_csv('data/responses_.csv')"
   ]
  },
  {
   "cell_type": "code",
   "execution_count": null,
   "id": "e4d90534",
   "metadata": {},
   "outputs": [],
   "source": [
    "df.describe()"
   ]
  },
  {
   "cell_type": "markdown",
   "id": "990da7c6",
   "metadata": {},
   "source": [
    "## Class Distribution"
   ]
  },
  {
   "cell_type": "code",
   "execution_count": null,
   "id": "d526b06d",
   "metadata": {},
   "outputs": [],
   "source": [
    "for col in df.columns:\n",
    "    plt.hist(df[col])\n",
    "    plt.xlabel('Count')\n",
    "    plt.ylabel('Classes')\n",
    "    plt.title(f'Class Distribution for Column {col}')\n",
    "    plt.show()"
   ]
  },
  {
   "cell_type": "markdown",
   "id": "9d64405c",
   "metadata": {},
   "source": [
    "## Principal Component Analysis"
   ]
  },
  {
   "cell_type": "code",
   "execution_count": null,
   "id": "201e6abf",
   "metadata": {},
   "outputs": [],
   "source": [
    "df_normalized=(df - df.mean()) / df.std() # Normalize\n",
    "\n",
    "pca = PCA(n_components=df.shape[1])\n",
    "pca.fit(df_normalized)"
   ]
  },
  {
   "cell_type": "code",
   "execution_count": null,
   "id": "11ea1319",
   "metadata": {},
   "outputs": [],
   "source": [
    "loadings = pd.DataFrame(pca.components_.T,\n",
    "columns=['PC%s' % _ for _ in range(len(df_normalized.columns))],\n",
    "                        index=df.columns)"
   ]
  },
  {
   "cell_type": "code",
   "execution_count": null,
   "id": "f5a0bbc3",
   "metadata": {},
   "outputs": [],
   "source": [
    "ax = sns.heatmap(loadings, \n",
    "                 cbar_kws={'label': 'Principal Axes'})\n",
    "\n",
    "ax.figure.axes[-1].yaxis.label.set_size(14)\n",
    "plt.title('PCA Components')\n",
    "plt.show()"
   ]
  },
  {
   "cell_type": "code",
   "execution_count": null,
   "id": "4e2b0d55",
   "metadata": {},
   "outputs": [],
   "source": [
    "print(f'Number of features seen during fit: {pca.n_features_in_}')\n",
    "print(f'Estimated Noise Covariance: {pca.noise_variance_}')"
   ]
  },
  {
   "cell_type": "code",
   "execution_count": null,
   "id": "8ed4881c",
   "metadata": {},
   "outputs": [],
   "source": [
    "plt.plot(pca.explained_variance_ratio_[:15])\n",
    "plt.stem(pca.explained_variance_ratio_[:15])\n",
    "plt.ylabel('Explained Variance')\n",
    "plt.xlabel('Components')\n",
    "plt.show()"
   ]
  },
  {
   "cell_type": "code",
   "execution_count": null,
   "id": "0d76c3c6",
   "metadata": {},
   "outputs": [],
   "source": [
    "var_ratio = pca.explained_variance_ratio_\n",
    "grad = np.diff(var_ratio)*-1"
   ]
  },
  {
   "cell_type": "markdown",
   "id": "51762840",
   "metadata": {},
   "source": [
    "## Chi-Square Test"
   ]
  },
  {
   "cell_type": "code",
   "execution_count": null,
   "id": "e481d064",
   "metadata": {},
   "outputs": [],
   "source": [
    "cat_var1  = list(df.columns)\n",
    "cat_var2  = list(df.columns)\n",
    "\n",
    "# Get All Possible Combinations\n",
    "cat_var_prod = list(product(cat_var1,cat_var2, repeat = 1))"
   ]
  },
  {
   "cell_type": "code",
   "execution_count": null,
   "id": "2212ffb0",
   "metadata": {},
   "outputs": [],
   "source": [
    "result = []\n",
    "\n",
    "for i in tqdm(cat_var_prod):\n",
    "    if i[0] != i[1]:\n",
    "        result.append((i[0], i[1], list(ss.chi2_contingency(pd.crosstab(\n",
    "            df[i[0]], df[i[1]])))[1]))"
   ]
  },
  {
   "cell_type": "code",
   "execution_count": null,
   "id": "c8da70e0",
   "metadata": {},
   "outputs": [],
   "source": [
    "chi_test_output = pd.DataFrame(result, columns = ['var1', 'var2', 'coeff'])\n",
    "chi_test_output['coeff'] = np.around(chi_test_output['coeff'].values, decimals=3)\n",
    "pivot_ct = chi_test_output.pivot(index='var1', columns='var2', values='coeff')"
   ]
  },
  {
   "cell_type": "code",
   "execution_count": null,
   "id": "73eb643f",
   "metadata": {},
   "outputs": [],
   "source": [
    "plt.figure(figsize=(15,15))\n",
    "sns.heatmap(pivot_ct, cmap='crest')\n",
    "\n",
    "plt.show()"
   ]
  }
 ],
 "metadata": {
  "kernelspec": {
   "display_name": "batelec_env",
   "language": "python",
   "name": "batelec_env"
  },
  "language_info": {
   "codemirror_mode": {
    "name": "ipython",
    "version": 3
   },
   "file_extension": ".py",
   "mimetype": "text/x-python",
   "name": "python",
   "nbconvert_exporter": "python",
   "pygments_lexer": "ipython3",
   "version": "3.9.18"
  }
 },
 "nbformat": 4,
 "nbformat_minor": 5
}
