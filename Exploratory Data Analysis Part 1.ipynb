{
 "cells": [
  {
   "cell_type": "code",
   "execution_count": null,
   "id": "99443f8f",
   "metadata": {},
   "outputs": [],
   "source": [
    "import pandas as pd\n",
    "import numpy as np\n",
    "import scipy.stats as ss\n",
    "from itertools import product\n",
    "from tqdm.notebook import tqdm\n",
    "\n",
    "from sklearn.preprocessing import MinMaxScaler\n",
    "from sklearn.model_selection import train_test_split\n",
    "from sklearn.neural_network import MLPClassifier\n",
    "from sklearn.metrics import accuracy_score, confusion_matrix  \n",
    "\n",
    "import matplotlib.pyplot as plt\n",
    "import seaborn as sns\n",
    "sns.set()"
   ]
  },
  {
   "cell_type": "code",
   "execution_count": null,
   "id": "0d3f5e0b",
   "metadata": {},
   "outputs": [],
   "source": [
    "df = pd.read_csv('data/responses_.csv')"
   ]
  },
  {
   "cell_type": "code",
   "execution_count": null,
   "id": "55549503",
   "metadata": {},
   "outputs": [],
   "source": [
    "df.describe()"
   ]
  },
  {
   "cell_type": "code",
   "execution_count": null,
   "id": "1163e2ac",
   "metadata": {},
   "outputs": [],
   "source": [
    "df.isna().sum().sum()"
   ]
  },
  {
   "cell_type": "code",
   "execution_count": null,
   "id": "ab34c895",
   "metadata": {},
   "outputs": [],
   "source": [
    "df.columns"
   ]
  },
  {
   "cell_type": "markdown",
   "id": "d142f338",
   "metadata": {},
   "source": [
    "# Get Average Per Class"
   ]
  },
  {
   "cell_type": "code",
   "execution_count": null,
   "id": "ce93f17e",
   "metadata": {},
   "outputs": [],
   "source": [
    "big_list = []\n",
    "small_list = []\n",
    "for i in list(df.columns):\n",
    "    if small_list == []:\n",
    "        small_list.append(i)\n",
    "    if i[:-1] == small_list[0][:-1]:\n",
    "        small_list.append(i)\n",
    "    if i[:-1] != small_list[0][:-1]:\n",
    "        big_list.append(list(set(small_list)))\n",
    "        small_list = []\n",
    "        small_list.append(i)"
   ]
  },
  {
   "cell_type": "code",
   "execution_count": null,
   "id": "4c34d3d4",
   "metadata": {},
   "outputs": [],
   "source": [
    "big_list.append(['FI1', 'FI2', 'FI3', 'FI4'])\n",
    "big_list"
   ]
  },
  {
   "cell_type": "code",
   "execution_count": null,
   "id": "7a89bba5",
   "metadata": {},
   "outputs": [],
   "source": [
    "median_df = pd.DataFrame()\n",
    "\n",
    "for small_list in big_list:\n",
    "    marker = small_list[0][:-1]\n",
    "    ave = df[small_list].median(axis=1).values\n",
    "    ceil = ave # np.ceil(ave)\n",
    "    median_df[marker] = ceil"
   ]
  },
  {
   "cell_type": "code",
   "execution_count": null,
   "id": "9b929308",
   "metadata": {},
   "outputs": [],
   "source": [
    "median_df.to_csv('data/median_df.csv', index=False) #Save Median"
   ]
  },
  {
   "cell_type": "code",
   "execution_count": null,
   "id": "0a9070fc",
   "metadata": {},
   "outputs": [],
   "source": [
    "median_df.shape"
   ]
  },
  {
   "cell_type": "code",
   "execution_count": null,
   "id": "d81a39c4",
   "metadata": {},
   "outputs": [],
   "source": [
    "median_df"
   ]
  },
  {
   "cell_type": "markdown",
   "id": "ea4ef71d",
   "metadata": {},
   "source": [
    "# Perform Chi-Square Test"
   ]
  },
  {
   "cell_type": "code",
   "execution_count": null,
   "id": "cb7ff331",
   "metadata": {},
   "outputs": [],
   "source": [
    "cat_var1  = list(median_df.columns)\n",
    "cat_var2  = list(median_df.columns)"
   ]
  },
  {
   "cell_type": "code",
   "execution_count": null,
   "id": "325dfedd",
   "metadata": {},
   "outputs": [],
   "source": [
    "# Get All Possible Combinations\n",
    "\n",
    "cat_var_prod = list(product(cat_var1,cat_var2, repeat = 1))"
   ]
  },
  {
   "cell_type": "code",
   "execution_count": null,
   "id": "5bdd2043",
   "metadata": {},
   "outputs": [],
   "source": [
    "result = []\n",
    "\n",
    "for i in tqdm(cat_var_prod):\n",
    "    if i[0] != i[1]:\n",
    "        result.append((i[0],i[1],list(ss.chi2_contingency(pd.crosstab(\n",
    "            median_df[i[0]], median_df[i[1]])))[1]))"
   ]
  },
  {
   "cell_type": "code",
   "execution_count": null,
   "id": "63ddc469",
   "metadata": {},
   "outputs": [],
   "source": [
    "chi_test_output = pd.DataFrame(result, columns = ['var1', 'var2', 'coeff'])\n",
    "chi_test_output['coeff'] = np.around(chi_test_output['coeff'].values, decimals=3)\n",
    "pivot_ct = chi_test_output.pivot(index='var1', columns='var2', values='coeff')"
   ]
  },
  {
   "cell_type": "code",
   "execution_count": null,
   "id": "08caa6e0",
   "metadata": {},
   "outputs": [],
   "source": [
    "plt.figure(figsize=(15,15))\n",
    "sns.heatmap(pivot_ct, annot=True, cmap='crest')\n",
    "\n",
    "plt.show()"
   ]
  },
  {
   "cell_type": "code",
   "execution_count": null,
   "id": "1393c03a",
   "metadata": {},
   "outputs": [],
   "source": []
  }
 ],
 "metadata": {
  "kernelspec": {
   "display_name": "batelec_env",
   "language": "python",
   "name": "batelec_env"
  },
  "language_info": {
   "codemirror_mode": {
    "name": "ipython",
    "version": 3
   },
   "file_extension": ".py",
   "mimetype": "text/x-python",
   "name": "python",
   "nbconvert_exporter": "python",
   "pygments_lexer": "ipython3",
   "version": "3.9.18"
  }
 },
 "nbformat": 4,
 "nbformat_minor": 5
}
